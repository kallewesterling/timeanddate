{
 "cells": [
  {
   "cell_type": "code",
   "execution_count": 99,
   "metadata": {},
   "outputs": [],
   "source": [
    "from requests import get\n",
    "from bs4 import BeautifulSoup\n",
    "from datetime import datetime\n",
    "from pathlib import Path\n",
    "import json\n",
    "import pandas as pd\n",
    "\n",
    "def write_json(self, data):\n",
    "    self.write_text(json.dumps(data))\n",
    "    return True\n",
    "    \n",
    "def read_json(self):\n",
    "    return json.loads(self.read_text())\n",
    "    \n",
    "Path.write_json = write_json\n",
    "Path.read_json = read_json"
   ]
  },
  {
   "cell_type": "code",
   "execution_count": 100,
   "metadata": {},
   "outputs": [],
   "source": [
    "urls = {\n",
    "    'uk': 'https://www.timeanddate.com/holidays/uk/2022?hol=9',\n",
    "    'singapore': 'https://www.timeanddate.com/holidays/singapore/2022?hol=9',\n",
    "    'brazil': 'https://www.timeanddate.com/holidays/brazil/2022?hol=9',\n",
    "    'us': 'https://www.timeanddate.com/holidays/us/2022?hol=9',\n",
    "    'germany': 'https://www.timeanddate.com/holidays/germany/2022?hol=9',\n",
    "    'italy': 'https://www.timeanddate.com/holidays/italy/2022?hol=9',\n",
    "    'france': 'https://www.timeanddate.com/holidays/france/2022?hol=9',\n",
    "    'russia': 'https://www.timeanddate.com/holidays/russia/2022?hol=9',\n",
    "    'china': 'https://www.timeanddate.com/holidays/china/2022?hol=9',\n",
    "    'south-korea': 'https://www.timeanddate.com/holidays/south-korea/2022?hol=9',\n",
    "    'japan': 'https://www.timeanddate.com/holidays/japan/2022?hol=9',\n",
    "    'india': 'https://www.timeanddate.com/holidays/india/2022?hol=134217737',\n",
    "}"
   ]
  },
  {
   "cell_type": "code",
   "execution_count": 104,
   "metadata": {},
   "outputs": [],
   "source": [
    "df = pd.DataFrame()\n",
    "\n",
    "for country, url in urls.items():\n",
    "    datafile = Path(f'{country}.json')\n",
    "    if datafile.exists():\n",
    "        data = datafile.read_json()\n",
    "        for datum in data:\n",
    "            day_name = datum['day_name']\n",
    "            s = pd.Series(datum, name=day_name)\n",
    "            df = df.append(s)\n",
    "        continue\n",
    "        \n",
    "    htmlfile = Path(f'{country}.html')\n",
    "    if not htmlfile.exists():\n",
    "        r = get(url)\n",
    "        htmlfile.write_text(r.text)\n",
    "    \n",
    "    html = htmlfile.read_text()\n",
    "    \n",
    "    soup = BeautifulSoup(html, 'lxml')\n",
    "    \n",
    "    table = soup.find('table', {'id': 'holidays-table'})\n",
    "    \n",
    "    data = []\n",
    "    for tr in table.tbody.find_all('tr'):\n",
    "        if tr.get('data-date'):\n",
    "            timestamp = tr.get('data-date')\n",
    "            timestamp = timestamp[:-3]\n",
    "            dt_object = datetime.fromtimestamp(int(timestamp))\n",
    "        if len(tr.find_all('td')) == 4:\n",
    "            _, day, day_name, observance = [x.text for x in tr.find_all('td')]\n",
    "        elif len(tr.find_all('td')) == 3:\n",
    "            day, day_name, observance = [x.text for x in tr.find_all('td')]\n",
    "            \n",
    "        datum = {\n",
    "            'country': country,\n",
    "            'date': dt_object.strftime('%Y-%m-%d'),\n",
    "            'day': day,\n",
    "            'day_name': day_name,\n",
    "            'observance': observance\n",
    "        }\n",
    "        \n",
    "        data.append(datum)\n",
    "        \n",
    "        s = pd.Series(datum, name=day_name)\n",
    "        \n",
    "        df = df.append(s)\n",
    "            \n",
    "    datafile.write_json(data)"
   ]
  },
  {
   "cell_type": "code",
   "execution_count": 93,
   "metadata": {},
   "outputs": [],
   "source": [
    "df.to_csv('dates.csv')"
   ]
  },
  {
   "cell_type": "code",
   "execution_count": null,
   "metadata": {},
   "outputs": [],
   "source": []
  },
  {
   "cell_type": "code",
   "execution_count": null,
   "metadata": {},
   "outputs": [],
   "source": []
  },
  {
   "cell_type": "code",
   "execution_count": null,
   "metadata": {},
   "outputs": [],
   "source": []
  },
  {
   "cell_type": "code",
   "execution_count": null,
   "metadata": {},
   "outputs": [],
   "source": []
  }
 ],
 "metadata": {
  "kernelspec": {
   "display_name": "Python 3",
   "language": "python",
   "name": "python3"
  },
  "language_info": {
   "codemirror_mode": {
    "name": "ipython",
    "version": 3
   },
   "file_extension": ".py",
   "mimetype": "text/x-python",
   "name": "python",
   "nbconvert_exporter": "python",
   "pygments_lexer": "ipython3",
   "version": "3.8.5"
  }
 },
 "nbformat": 4,
 "nbformat_minor": 4
}
